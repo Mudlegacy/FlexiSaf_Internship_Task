{
 "cells": [
  {
   "cell_type": "markdown",
   "id": "513c90df-a4a0-45f7-b3b1-0bc09f97f289",
   "metadata": {},
   "source": [
    "### ROCK, PAPER AND SCISSORS INTERACTIVE GAME "
   ]
  },
  {
   "cell_type": "code",
   "execution_count": null,
   "id": "3b92b779-148f-42c1-852d-73a689c4f728",
   "metadata": {},
   "outputs": [
    {
     "name": "stdout",
     "output_type": "stream",
     "text": [
      "\n",
      "===== ROCK, PAPER, SCISSORS =====\n",
      "Enter your choice: rock, paper, or scissors\n"
     ]
    },
    {
     "name": "stdin",
     "output_type": "stream",
     "text": [
      "Your choice:  paper\n"
     ]
    },
    {
     "name": "stdout",
     "output_type": "stream",
     "text": [
      "\n",
      "You chose: paper\n",
      "Computer chose: paper\n",
      "\n",
      "It's a tie!\n"
     ]
    },
    {
     "name": "stdin",
     "output_type": "stream",
     "text": [
      "\n",
      "Do you want to play again? (yes/no):  yes\n"
     ]
    },
    {
     "name": "stdout",
     "output_type": "stream",
     "text": [
      "\n",
      "===== ROCK, PAPER, SCISSORS =====\n",
      "Enter your choice: rock, paper, or scissors\n"
     ]
    },
    {
     "name": "stdin",
     "output_type": "stream",
     "text": [
      "Your choice:  paper\n"
     ]
    },
    {
     "name": "stdout",
     "output_type": "stream",
     "text": [
      "\n",
      "You chose: paper\n",
      "Computer chose: rock\n",
      "\n",
      "You win!\n"
     ]
    }
   ],
   "source": [
    "import random\n",
    "\n",
    "def play_rock_paper_scissors():\n",
    "    \"\"\"\n",
    "    Simulates a game of Rock, Paper, Scissors between user and computer.\n",
    "    \"\"\"\n",
    "    # Define the possible choices\n",
    "    choices = [\"rock\", \"paper\", \"scissors\"]\n",
    "    \n",
    "    # Display instructions\n",
    "    print(\"\\n===== ROCK, PAPER, SCISSORS =====\")\n",
    "    print(\"Enter your choice: rock, paper, or scissors\")\n",
    "    \n",
    "    # Get the user's choice with input validation\n",
    "    while True:\n",
    "        user_choice = input(\"Your choice: \").lower()\n",
    "        if user_choice in choices:\n",
    "            break\n",
    "        else:\n",
    "            print(\"Invalid choice! Please enter rock, paper, or scissors.\")\n",
    "    \n",
    "    # Generate a random choice for the computer\n",
    "    computer_choice = random.choice(choices)\n",
    "    \n",
    "    # Display both choices\n",
    "    print(f\"\\nYou chose: {user_choice}\")\n",
    "    print(f\"Computer chose: {computer_choice}\")\n",
    "    \n",
    "    # Determine the winner based on the rules\n",
    "    if user_choice == computer_choice:\n",
    "        result = \"It's a tie!\"\n",
    "    elif (user_choice == \"rock\" and computer_choice == \"scissors\") or \\\n",
    "         (user_choice == \"paper\" and computer_choice == \"rock\") or \\\n",
    "         (user_choice == \"scissors\" and computer_choice == \"paper\"):\n",
    "        result = \"You win!\"\n",
    "    else:\n",
    "        result = \"Computer wins!\"\n",
    "    \n",
    "    print(f\"\\n{result}\")\n",
    "    \n",
    "    # Ask if the user wants to play again\n",
    "    play_again = input(\"\\nDo you want to play again? (yes/no): \").lower()\n",
    "    if play_again.startswith('y'):\n",
    "        play_rock_paper_scissors()\n",
    "    else:\n",
    "        print(\"Thanks for playing!\")\n",
    "\n",
    "# Start the game\n",
    "if __name__ == \"__main__\":\n",
    "    play_rock_paper_scissors()\n",
    "    "
   ]
  }
 ],
 "metadata": {
  "kernelspec": {
   "display_name": "Python [conda env:base] *",
   "language": "python",
   "name": "conda-base-py"
  },
  "language_info": {
   "codemirror_mode": {
    "name": "ipython",
    "version": 3
   },
   "file_extension": ".py",
   "mimetype": "text/x-python",
   "name": "python",
   "nbconvert_exporter": "python",
   "pygments_lexer": "ipython3",
   "version": "3.12.7"
  }
 },
 "nbformat": 4,
 "nbformat_minor": 5
}
